{
  "nbformat": 4,
  "nbformat_minor": 0,
  "metadata": {
    "colab": {
      "name": "ME570project.ipynb",
      "provenance": [],
      "mount_file_id": "17AejmHzNbNZzR8XpIgR9-Q-zEGhMpzPE",
      "authorship_tag": "ABX9TyPzTWxljHEHsbMi0zRn1D4X",
      "include_colab_link": true
    },
    "kernelspec": {
      "name": "python3",
      "display_name": "Python 3"
    },
    "accelerator": "GPU"
  },
  "cells": [
    {
      "cell_type": "markdown",
      "metadata": {
        "id": "view-in-github",
        "colab_type": "text"
      },
      "source": [
        "<a href=\"https://colab.research.google.com/github/Fotouhif/Project_pointcloud_RNN/blob/Preprocessing_data/Preprocessing_data/ME570project.ipynb\" target=\"_parent\"><img src=\"https://colab.research.google.com/assets/colab-badge.svg\" alt=\"Open In Colab\"/></a>"
      ]
    },
    {
      "cell_type": "markdown",
      "metadata": {
        "id": "f2l_hH6HsUmK"
      },
      "source": [
        "**Don't forget to turn on GPU if you want to start training directly.**\n",
        "\n",
        "Runtime -> Change runtime type-> Hardware accelerator"
      ]
    },
    {
      "cell_type": "code",
      "metadata": {
        "id": "3HexmPJWWV61",
        "outputId": "f2ab48d6-32d3-4216-f3ca-122b3bd72e73",
        "colab": {
          "base_uri": "https://localhost:8080/"
        }
      },
      "source": [
        "from google.colab import drive\n",
        "drive.mount('/content/drive')"
      ],
      "execution_count": null,
      "outputs": [
        {
          "output_type": "stream",
          "text": [
            "Drive already mounted at /content/drive; to attempt to forcibly remount, call drive.mount(\"/content/drive\", force_remount=True).\n"
          ],
          "name": "stdout"
        }
      ]
    },
    {
      "cell_type": "code",
      "metadata": {
        "id": "KH0VeCLtsqTl",
        "outputId": "01c2763b-b209-47ec-9b1f-4aa4b874ecfc",
        "colab": {
          "base_uri": "https://localhost:8080/"
        }
      },
      "source": [
        "%cd /content/drive/My Drive/PhD/courses/ME_570X/Project/Colab_pointnet"
      ],
      "execution_count": 1,
      "outputs": [
        {
          "output_type": "stream",
          "text": [
            "/content/drive/My Drive/PhD/courses/ME_570X/Project/Colab_pointnet\n"
          ],
          "name": "stdout"
        }
      ]
    },
    {
      "cell_type": "markdown",
      "metadata": {
        "id": "M0ywOcZss67E"
      },
      "source": [
        "# **Import packages**"
      ]
    },
    {
      "cell_type": "code",
      "metadata": {
        "id": "Xte8rGb_srwj"
      },
      "source": [
        "import numpy as np\n",
        "import math\n",
        "import random\n",
        "import os\n",
        "import torch\n",
        "import scipy.spatial.distance\n",
        "from torch.utils.data import Dataset, DataLoader\n",
        "from torchvision import transforms, utils\n",
        "\n",
        "import plotly.graph_objects as go\n",
        "import plotly.express as px"
      ],
      "execution_count": 2,
      "outputs": []
    },
    {
      "cell_type": "code",
      "metadata": {
        "id": "qB1VxFOFswrH",
        "outputId": "18fff1ee-11d7-4f86-b2c4-541e89aeb94e",
        "colab": {
          "base_uri": "https://localhost:8080/"
        }
      },
      "source": [
        "!pip install path.py;\n",
        "from path import Path"
      ],
      "execution_count": 3,
      "outputs": [
        {
          "output_type": "stream",
          "text": [
            "Requirement already satisfied: path.py in /usr/local/lib/python3.6/dist-packages (12.5.0)\n",
            "Requirement already satisfied: path in /usr/local/lib/python3.6/dist-packages (from path.py) (15.0.0)\n"
          ],
          "name": "stdout"
        }
      ]
    },
    {
      "cell_type": "code",
      "metadata": {
        "id": "sNqF6HrWs5h8"
      },
      "source": [
        "random.seed = 42"
      ],
      "execution_count": 4,
      "outputs": []
    },
    {
      "cell_type": "markdown",
      "metadata": {
        "id": "YMjH31pptJeR"
      },
      "source": [
        "## **Download Dataset if you do not have it!**"
      ]
    },
    {
      "cell_type": "code",
      "metadata": {
        "id": "ekOU5f7utUnG"
      },
      "source": [
        "!wget http://3dvision.princeton.edu/projects/2014/3DShapeNets/ModelNet10.zip"
      ],
      "execution_count": null,
      "outputs": []
    },
    {
      "cell_type": "code",
      "metadata": {
        "id": "qUzM05-ktX71"
      },
      "source": [
        "!unzip -q ModelNet10.zip;"
      ],
      "execution_count": null,
      "outputs": []
    },
    {
      "cell_type": "markdown",
      "metadata": {
        "id": "S1Z_IxjMthhS"
      },
      "source": [
        "# Classes Folders"
      ]
    },
    {
      "cell_type": "code",
      "metadata": {
        "id": "HnlsePOutcZO"
      },
      "source": [
        "path = Path(\"ModelNet10\")"
      ],
      "execution_count": 6,
      "outputs": []
    },
    {
      "cell_type": "code",
      "metadata": {
        "id": "eGJhUuPotdMy",
        "outputId": "b71d4179-29d1-47cb-d9df-d871c827702d",
        "colab": {
          "base_uri": "https://localhost:8080/"
        }
      },
      "source": [
        "folders = [dir for dir in sorted(os.listdir(path)) if os.path.isdir(path/dir)]\n",
        "classes = {folder: i for i, folder in enumerate(folders)};\n",
        "classes"
      ],
      "execution_count": 7,
      "outputs": [
        {
          "output_type": "execute_result",
          "data": {
            "text/plain": [
              "{'bathtub': 0,\n",
              " 'bed': 1,\n",
              " 'chair': 2,\n",
              " 'desk': 3,\n",
              " 'dresser': 4,\n",
              " 'monitor': 5,\n",
              " 'night_stand': 6,\n",
              " 'sofa': 7,\n",
              " 'table': 8,\n",
              " 'toilet': 9}"
            ]
          },
          "metadata": {
            "tags": []
          },
          "execution_count": 7
        }
      ]
    },
    {
      "cell_type": "markdown",
      "metadata": {
        "id": "0kqIDBY1tvdC"
      },
      "source": [
        "This dataset consists of **.off** files that contain meshes represented by *vertices* and *triangular faces*. \n",
        "\n",
        "We will need a function to read this type of files:"
      ]
    },
    {
      "cell_type": "code",
      "metadata": {
        "id": "RHos1agXtz9e"
      },
      "source": [
        "def read_off(file):\n",
        "    if 'OFF' != file.readline().strip():\n",
        "        raise('Not a valid OFF header')\n",
        "    n_verts, n_faces, __ = tuple([int(s) for s in file.readline().strip().split(' ')])\n",
        "    verts = [[float(s) for s in file.readline().strip().split(' ')] for i_vert in range(n_verts)]\n",
        "    faces = [[int(s) for s in file.readline().strip().split(' ')][1:] for i_face in range(n_faces)]\n",
        "    return verts, faces"
      ],
      "execution_count": 8,
      "outputs": []
    },
    {
      "cell_type": "code",
      "metadata": {
        "id": "Gmmfsol8t31B"
      },
      "source": [
        "with open(path/\"chair/train/chair_0010.off\", 'r') as f:\n",
        "  verts, faces = read_off(f)"
      ],
      "execution_count": 9,
      "outputs": []
    },
    {
      "cell_type": "code",
      "metadata": {
        "id": "EQYT4c4ot6lg"
      },
      "source": [
        "i,j,k = np.array(faces).T\n",
        "x,y,z = np.array(verts).T"
      ],
      "execution_count": 10,
      "outputs": []
    },
    {
      "cell_type": "code",
      "metadata": {
        "id": "d7oN9Iq8uQnp",
        "outputId": "f28baefb-cf76-450f-edc2-6871eaa07f35",
        "colab": {
          "base_uri": "https://localhost:8080/"
        }
      },
      "source": [
        "len(x)"
      ],
      "execution_count": 11,
      "outputs": [
        {
          "output_type": "execute_result",
          "data": {
            "text/plain": [
              "1842"
            ]
          },
          "metadata": {
            "tags": []
          },
          "execution_count": 11
        }
      ]
    }
  ]
}